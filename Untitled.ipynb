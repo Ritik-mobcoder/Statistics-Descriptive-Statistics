{
 "cells": [
  {
   "cell_type": "code",
   "execution_count": 1,
   "id": "40c32855-53e6-44c2-a762-94b86bcd0444",
   "metadata": {},
   "outputs": [],
   "source": [
    "import statistics "
   ]
  },
  {
   "cell_type": "code",
   "execution_count": 2,
   "id": "f235553b-ea64-4e4a-82f5-9fe13fee98b0",
   "metadata": {},
   "outputs": [],
   "source": [
    "lst = [30, 55, 3, 10, 2]"
   ]
  },
  {
   "cell_type": "code",
   "execution_count": null,
   "id": "4d05c571-062f-40ff-9a15-da35af107f4f",
   "metadata": {},
   "outputs": [],
   "source": [
    "Mean \n",
    "The sum of all values divided by the total number of values. It is the most commonly used measure of central tendency. However, the mean is sensitive to outliers, which are values that are unusually larger or smaller than the rest of the data."
   ]
  },
  {
   "cell_type": "code",
   "execution_count": 4,
   "id": "e55dd5cb-ab1a-4554-ae3f-44e74a4b1edc",
   "metadata": {},
   "outputs": [
    {
     "name": "stdout",
     "output_type": "stream",
     "text": [
      "Average:  20\n"
     ]
    }
   ],
   "source": [
    "average = statistics.mean(lst)\n",
    "print(\"Average: \", round(average,3))"
   ]
  },
  {
   "cell_type": "code",
   "execution_count": 7,
   "id": "07283da3-da54-4f98-bf03-3d32c30d395a",
   "metadata": {},
   "outputs": [
    {
     "name": "stdout",
     "output_type": "stream",
     "text": [
      "20.0\n"
     ]
    }
   ],
   "source": [
    "mean = sum(lst) / len(lst)\n",
    "print(mean)"
   ]
  },
  {
   "cell_type": "code",
   "execution_count": null,
   "id": "3f52fde7-ff6f-413e-b1a3-f18a720a1d00",
   "metadata": {},
   "outputs": [],
   "source": [
    "Median\n",
    "The middle number in an ordered dataset. In a skewed distribution, the median is generally considered to be the best representative of the central location of the data. "
   ]
  },
  {
   "cell_type": "code",
   "execution_count": 5,
   "id": "6650628c-f0f0-4276-98a3-4ebde8ff697a",
   "metadata": {},
   "outputs": [
    {
     "name": "stdout",
     "output_type": "stream",
     "text": [
      "10\n"
     ]
    }
   ],
   "source": [
    "print(statistics.median(lst))"
   ]
  },
  {
   "cell_type": "code",
   "execution_count": 11,
   "id": "566f8034-caa4-4943-9690-8a45cd239434",
   "metadata": {},
   "outputs": [
    {
     "name": "stdout",
     "output_type": "stream",
     "text": [
      "10\n"
     ]
    }
   ],
   "source": [
    "a = sorted(lst)\n",
    "n = len(a)\n",
    "if n % 2 == 1:\n",
    "    print (sorted_data[n // 2])\n",
    "else:\n",
    "    print ((sorted_data[n // 2 - 1] + sorted_data[n // 2]) / 2)"
   ]
  },
  {
   "cell_type": "code",
   "execution_count": null,
   "id": "73572098-f0f0-4792-952c-6dd721d6ddd6",
   "metadata": {},
   "outputs": [],
   "source": [
    "Mode\n",
    "The most frequent value. In a skewed distribution, the mode lies in the hump of the distribution."
   ]
  },
  {
   "cell_type": "code",
   "execution_count": 6,
   "id": "32ae28ed-bc6c-41cd-99ab-cac81efc407c",
   "metadata": {},
   "outputs": [
    {
     "name": "stdout",
     "output_type": "stream",
     "text": [
      "30\n"
     ]
    }
   ],
   "source": [
    "print(statistics.mode(lst))"
   ]
  }
 ],
 "metadata": {
  "kernelspec": {
   "display_name": "Python 3 (ipykernel)",
   "language": "python",
   "name": "python3"
  },
  "language_info": {
   "codemirror_mode": {
    "name": "ipython",
    "version": 3
   },
   "file_extension": ".py",
   "mimetype": "text/x-python",
   "name": "python",
   "nbconvert_exporter": "python",
   "pygments_lexer": "ipython3",
   "version": "3.11.10"
  }
 },
 "nbformat": 4,
 "nbformat_minor": 5
}
