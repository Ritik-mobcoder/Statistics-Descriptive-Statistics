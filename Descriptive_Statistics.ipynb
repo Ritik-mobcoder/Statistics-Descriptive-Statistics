{
 "cells": [
  {
   "cell_type": "code",
   "execution_count": 65,
   "id": "40c32855-53e6-44c2-a762-94b86bcd0444",
   "metadata": {},
   "outputs": [],
   "source": [
    "import statistics \n",
    "import seaborn as sns"
   ]
  },
  {
   "cell_type": "code",
   "execution_count": 2,
   "id": "f235553b-ea64-4e4a-82f5-9fe13fee98b0",
   "metadata": {},
   "outputs": [],
   "source": [
    "lst = [30, 55, 3, 10, 2]"
   ]
  },
  {
   "cell_type": "markdown",
   "id": "8d36bfb4-766f-41b7-944f-10c673b9a704",
   "metadata": {},
   "source": [
    "Mean \n",
    "The sum of all values divided by the total number of values. It is the most commonly used measure of central tendency. However, the mean is sensitive to outliers, which are values that are unusually larger or smaller than the rest of the data."
   ]
  },
  {
   "cell_type": "code",
   "execution_count": 4,
   "id": "e55dd5cb-ab1a-4554-ae3f-44e74a4b1edc",
   "metadata": {},
   "outputs": [
    {
     "name": "stdout",
     "output_type": "stream",
     "text": [
      "Average:  20\n"
     ]
    }
   ],
   "source": [
    "average = statistics.mean(lst)\n",
    "print(\"Average: \", round(average,3))"
   ]
  },
  {
   "cell_type": "code",
   "execution_count": 7,
   "id": "07283da3-da54-4f98-bf03-3d32c30d395a",
   "metadata": {},
   "outputs": [
    {
     "name": "stdout",
     "output_type": "stream",
     "text": [
      "20.0\n"
     ]
    }
   ],
   "source": [
    "mean = sum(lst) / len(lst)\n",
    "print(mean)"
   ]
  },
  {
   "cell_type": "markdown",
   "id": "f47567b2-1379-4271-abad-826905c34c99",
   "metadata": {},
   "source": [
    "Median\n",
    "The middle number in an ordered dataset. In a skewed distribution, the median is generally considered to be the best representative of the central location of the data. "
   ]
  },
  {
   "cell_type": "code",
   "execution_count": 5,
   "id": "6650628c-f0f0-4276-98a3-4ebde8ff697a",
   "metadata": {},
   "outputs": [
    {
     "name": "stdout",
     "output_type": "stream",
     "text": [
      "10\n"
     ]
    }
   ],
   "source": [
    "print(statistics.median(lst))"
   ]
  },
  {
   "cell_type": "code",
   "execution_count": 48,
   "id": "566f8034-caa4-4943-9690-8a45cd239434",
   "metadata": {},
   "outputs": [
    {
     "name": "stdout",
     "output_type": "stream",
     "text": [
      "10\n"
     ]
    }
   ],
   "source": [
    "a = sorted(lst)\n",
    "n = len(a)\n",
    "if n % 2 == 1:\n",
    "    meadian =(sorted_data[n // 2])\n",
    "    print(meadian)\n",
    "else:\n",
    "    meadian=((sorted_data[n // 2 - 1] + sorted_data[n // 2]) / 2)\n",
    "    print(meadian)"
   ]
  },
  {
   "cell_type": "markdown",
   "id": "a79bd2b2-4f33-4fbb-9e6f-32d68f653a13",
   "metadata": {},
   "source": [
    "Mode\n",
    "The most frequent value. In a skewed distribution, the mode lies in the hump of the distribution."
   ]
  },
  {
   "cell_type": "code",
   "execution_count": 6,
   "id": "32ae28ed-bc6c-41cd-99ab-cac81efc407c",
   "metadata": {},
   "outputs": [
    {
     "name": "stdout",
     "output_type": "stream",
     "text": [
      "30\n"
     ]
    }
   ],
   "source": [
    "print(statistics.mode(lst))"
   ]
  },
  {
   "cell_type": "markdown",
   "id": "595e5a5b-8746-48de-8617-913b1057d136",
   "metadata": {},
   "source": [
    "Range\n",
    "The range is the simplest measure of dispersion. It is the difference between the maximum and minimum values in a data set.b"
   ]
  },
  {
   "cell_type": "code",
   "execution_count": 14,
   "id": "e37c3306-2ac3-4aa4-9cd1-2327cb670100",
   "metadata": {},
   "outputs": [
    {
     "name": "stdout",
     "output_type": "stream",
     "text": [
      "53\n"
     ]
    }
   ],
   "source": [
    "print(max(lst) - min(lst))"
   ]
  },
  {
   "cell_type": "markdown",
   "id": "2aef561a-f52c-4cff-a47a-cb3647a40d26",
   "metadata": {},
   "source": [
    "Variance \n",
    "Variance is a statistical measure that quantifies the spread or dispersion of a set of data points. It indicates how much the individual data points in a dataset differ from the mean (average) of the dataset"
   ]
  },
  {
   "cell_type": "markdown",
   "id": "5cf66285-8678-4d45-81a4-785a9582dd38",
   "metadata": {},
   "source": [
    "\n",
    "variance_lst = []\n",
    "for i in lst:\n",
    "    varience_ele= (i-mean)**2\n",
    "    variance_lst.append(varience_ele)\n",
    "variance = sum(variance_lst) / (len(variance_lst)-1)\n",
    "print(variance)\n"
   ]
  },
  {
   "cell_type": "markdown",
   "id": "4bb059a8-fbec-4428-8706-608822f76fe5",
   "metadata": {},
   "source": [
    "Standard deviation\n",
    "Standard deviation is a measure used in statistics to understand how the data points in a set are spread out from the mean value. It indicates the extent of the data’s variation and shows how far individual data points deviate from the average."
   ]
  },
  {
   "cell_type": "code",
   "execution_count": 53,
   "id": "aa7c9b71-100c-4271-8cb0-5cc2dbed04a9",
   "metadata": {},
   "outputs": [
    {
     "name": "stdout",
     "output_type": "stream",
     "text": [
      "22.572106680591425\n",
      "22.572106680591425\n"
     ]
    }
   ],
   "source": [
    "standard_deviation = (variance)**0.5\n",
    "standard_deviation2 = (variance)**(1/2)\n",
    "print(standard_deviation2)\n",
    "print(standard_deviation)"
   ]
  },
  {
   "cell_type": "markdown",
   "id": "6f231241-e570-4447-8fa5-e596bab7ebc9",
   "metadata": {},
   "source": [
    "Interquartile Range\n",
    "IQR in Statistics is used to measure variability by dividing a data set into quartiles. The data is sorted in ascending order and split into 4 equal parts. Q1, Q2, Q3 called first, second and third quartiles in the given data.\n",
    "\n",
    "Q1 represents the 25th percentile of the data.\n",
    "Q2 represents the 50th percentile of the data.\n",
    "Q3 represents the 75th percentile of the data."
   ]
  },
  {
   "cell_type": "code",
   "execution_count": 64,
   "id": "678bfb5b-22ae-497a-a102-044298200ddf",
   "metadata": {},
   "outputs": [
    {
     "name": "stdout",
     "output_type": "stream",
     "text": [
      "27.0\n"
     ]
    }
   ],
   "source": [
    "def percentile(data, percentile_rank):\n",
    "    sorted_data = sorted(data)\n",
    "    index = (percentile_rank / 100) * (len(sorted_data) - 1)\n",
    "    lower_index = int(index)\n",
    "    upper_index = lower_index + 1\n",
    "    if upper_index < len(sorted_data):\n",
    "        return sorted_data[lower_index] + (index - lower_index) * (sorted_data[upper_index] - sorted_data[lower_index])\n",
    "    else:\n",
    "        return sorted_data[lower_index]\n",
    "\n",
    "\n",
    "Q1 = percentile(lst, 25)\n",
    "Q3 = percentile(lst, 75)\n",
    "\n",
    "IQR = Q3 - Q1\n",
    "\n",
    "\n",
    "print(IQR)\n",
    "\n"
   ]
  },
  {
   "cell_type": "markdown",
   "id": "1f0345c9-2556-4554-a1a3-5d542309b600",
   "metadata": {},
   "source": [
    "In statistics, a percentile is a measure used to indicate the value below which a given percentage of observations in a group of observations fall."
   ]
  },
  {
   "cell_type": "code",
   "execution_count": 62,
   "id": "8d21a1a4-ef11-4725-81d6-15a52ab0c2f4",
   "metadata": {},
   "outputs": [
    {
     "name": "stdout",
     "output_type": "stream",
     "text": [
      "3.0\n",
      "30.0\n"
     ]
    }
   ],
   "source": [
    "print(Q1)\n",
    "print(Q3)"
   ]
  },
  {
   "cell_type": "markdown",
   "id": "00d316f4-8447-4cd5-9efe-2a17265c97f2",
   "metadata": {},
   "source": [
    "Histograms\n",
    "Group data into ranges and plot the frequency of data in each range. Histograms are best for analyzing the distribution of a single group of data, and for understanding the overall shape of the data. They can help identify modes (peaks) and understand if the data is normal, skewed, or bimodal."
   ]
  },
  {
   "cell_type": "code",
   "execution_count": 66,
   "id": "8df95a68-77b4-48a0-b017-c9f026b1606a",
   "metadata": {},
   "outputs": [
    {
     "data": {
      "text/plain": [
       "<Axes: ylabel='Count'>"
      ]
     },
     "execution_count": 66,
     "metadata": {},
     "output_type": "execute_result"
    },
    {
     "data": {
      "image/png": "[encoded data removed]",
      "text/plain": [
       "<Figure size 640x480 with 1 Axes>"
      ]
     },
     "metadata": {},
     "output_type": "display_data"
    }
   ],
   "source": [
    "sns.histplot(lst)"
   ]
  },
  {
   "cell_type": "code",
   "execution_count": 67,
   "id": "3e3dfb96-c78e-4f87-ac27-94108b9ba8e7",
   "metadata": {},
   "outputs": [
    {
     "data": {
      "text/plain": [
       "<Axes: >"
      ]
     },
     "execution_count": 67,
     "metadata": {},
     "output_type": "execute_result"
    },
    {
     "data": {
      "image/png": "[encoded data removed]",
      "text/plain": [
       "<Figure size 640x480 with 1 Axes>"
      ]
     },
     "metadata": {},
     "output_type": "display_data"
    }
   ],
   "source": [
    "sns.boxplot(lst)"
   ]
  },
  {
   "cell_type": "code",
   "execution_count": null,
   "id": "3feb3f47-b640-4df8-bcca-8a236b798553",
   "metadata": {},
   "outputs": [],
   "source": []
  }
 ],
 "metadata": {
  "kernelspec": {
   "display_name": "Python 3 (ipykernel)",
   "language": "python",
   "name": "python3"
  },
  "language_info": {
   "codemirror_mode": {
    "name": "ipython",
    "version": 3
   },
   "file_extension": ".py",
   "mimetype": "text/x-python",
   "name": "python",
   "nbconvert_exporter": "python",
   "pygments_lexer": "ipython3",
   "version": "3.11.10"
  }
 },
 "nbformat": 4,
 "nbformat_minor": 5
}
